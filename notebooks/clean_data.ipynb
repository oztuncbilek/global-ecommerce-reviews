{
 "cells": [
  {
   "cell_type": "code",
   "execution_count": 2,
   "id": "f53ab136",
   "metadata": {},
   "outputs": [
    {
     "name": "stdout",
     "output_type": "stream",
     "text": [
      "great product! but the \"delivery\" was late...\n"
     ]
    }
   ],
   "source": [
    "import re\n",
    "import pandas as pd\n",
    "\n",
    "def clean_text(text):\n",
    "    text = text.replace('\\\\n', ' ')  \n",
    "    text = re.sub(r'\\s+', ' ', text)  \n",
    "    text = text.lower()  \n",
    "    return text.strip()\n",
    "\n",
    "sample_text = 'Great product!\\\\nBut the \"delivery\" was late...'\n",
    "print(clean_text(sample_text))  # Output: \"great product! but the delivery was late...\""
   ]
  },
  {
   "cell_type": "code",
   "execution_count": null,
   "id": "347d282d",
   "metadata": {},
   "outputs": [],
   "source": [
    "def process_data(input_path, output_path):\n",
    "    df = pd.read_csv(input_path, names=[\"label\", \"title\", \"review\"])\n",
    "    df[\"cleaned_review\"] = df[\"review\"].apply(clean_text)\n",
    "    \n",
    "    # Label'ları düzenle (1: Negative, 2: Positive)\n",
    "    df[\"sentiment\"] = df[\"label\"].map({1: \"negative\", 2: \"positive\"})\n",
    "    \n",
    "    # Sadece ihtiyacımız olan sütunları al\n",
    "    df = df[[\"sentiment\", \"cleaned_review\"]]\n",
    "    df.to_csv(output_path, index=False)\n",
    "\n",
    "# Örnek veriyle çalıştır\n",
    "process_data(\"../data/raw/train.csv\", \"../data/processed/train_clean.csv\")\n",
    "process_data(\"../data/raw/test.csv\", \"../data/processed/test_clean.csv\")"
   ]
  },
  {
   "cell_type": "code",
   "execution_count": null,
   "id": "ede8c904",
   "metadata": {},
   "outputs": [
    {
     "name": "stdout",
     "output_type": "stream",
     "text": [
      "Boyut Küçülmesi: 1511.76 MB → 872.66 MB (%42.3 tasarruf)\n"
     ]
    }
   ],
   "source": [
    "import pyarrow.parquet as pq\n",
    "import os \n",
    "import pandas as pd\n",
    "\n",
    "train_clean = pd.read_csv(\"../data/processed/train_clean.csv\")\n",
    "test_clean = pd.read_csv(\"../data/processed/test_clean.csv\")\n",
    "\n",
    "train_clean.to_parquet(\"../data/processed/train_clean.parquet\", engine='pyarrow')\n",
    "test_clean.to_parquet(\"../data/processed/test_clean.parquet\", engine='pyarrow')\n",
    "\n",
    "original_size = os.path.getsize(\"../data/raw/train.csv\")/1024/1024\n",
    "parquet_size = os.path.getsize(\"../data/processed/train_clean.parquet\")/1024/1024\n",
    "print(f\"Size reduced by: {original_size:.2f} MB → {parquet_size:.2f} MB (%{100*(1-parquet_size/original_size):.1f})\")"
   ]
  }
 ],
 "metadata": {
  "kernelspec": {
   "display_name": "base",
   "language": "python",
   "name": "python3"
  },
  "language_info": {
   "codemirror_mode": {
    "name": "ipython",
    "version": 3
   },
   "file_extension": ".py",
   "mimetype": "text/x-python",
   "name": "python",
   "nbconvert_exporter": "python",
   "pygments_lexer": "ipython3",
   "version": "3.11.5"
  }
 },
 "nbformat": 4,
 "nbformat_minor": 5
}
