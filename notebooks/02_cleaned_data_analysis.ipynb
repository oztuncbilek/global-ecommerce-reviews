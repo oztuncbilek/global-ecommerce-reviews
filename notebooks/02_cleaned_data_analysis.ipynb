{
 "cells": [
  {
   "cell_type": "code",
   "execution_count": null,
   "id": "99066d52",
   "metadata": {},
   "outputs": [],
   "source": [
    "import matplotlib.pyplot as plt\n",
    "\n",
    "train_clean = pd.read_csv(\"../data/processed/train_clean.csv\")\n",
    "train_clean[\"sentiment\"].value_counts().plot(kind=\"bar\")\n",
    "plt.title(\"Sentiment Dağılımı\")\n",
    "plt.show()"
   ]
  }
 ],
 "metadata": {
  "language_info": {
   "name": "python"
  }
 },
 "nbformat": 4,
 "nbformat_minor": 5
}
